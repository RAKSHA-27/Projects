{
  "cells": [
    {
      "cell_type": "code",
      "execution_count": null,
      "metadata": {
        "id": "cvYV8z0v9SpP"
      },
      "outputs": [],
      "source": [
        "!pip install streamlit -q\n",
        "#!pip install geopandas"
      ]
    },
    {
      "cell_type": "code",
      "execution_count": null,
      "metadata": {
        "colab": {
          "base_uri": "https://localhost:8080/"
        },
        "id": "I64ePNg7C_dV",
        "outputId": "4f66bf19-be44-436a-aa64-a6029da9ca8f"
      },
      "outputs": [
        {
          "name": "stdout",
          "output_type": "stream",
          "text": [
            "Drive already mounted at /content/drive; to attempt to forcibly remount, call drive.mount(\"/content/drive\", force_remount=True).\n"
          ]
        }
      ],
      "source": [
        "from google.colab import drive\n",
        "drive.mount('/content/drive')"
      ]
    },
    {
      "cell_type": "code",
      "execution_count": null,
      "metadata": {
        "id": "6HWarB3iLTTA"
      },
      "outputs": [],
      "source": [
        "!pip install folium -q\n",
        "!pip install streamlit-folium -q"
      ]
    },
    {
      "cell_type": "code",
      "execution_count": null,
      "metadata": {
        "colab": {
          "base_uri": "https://localhost:8080/"
        },
        "id": "LqDlb6ARPCz7",
        "outputId": "a753d271-cf48-4fa2-9de4-bed333dfd8ac"
      },
      "outputs": [
        {
          "name": "stdout",
          "output_type": "stream",
          "text": [
            "Overwriting csv.py\n"
          ]
        }
      ],
      "source": [
        "%%writefile csv.py\n",
        "import streamlit as st\n",
        "import pandas as pd\n",
        "import folium\n",
        "from streamlit_folium import folium_static\n",
        "import csv\n",
        "import matplotlib.pyplot as plt\n",
        "# Function to Plot Bangalore Map and Add Hotels\n",
        "def plot_hotels():\n",
        "    # Load Data\n",
        "    df = pd.read_csv('/content/drive/MyDrive/prodigy internship/hotel_blg.csv')\n",
        "\n",
        "    # Plot Bangalore Map\n",
        "    m = folium.Map(location=[12.9716, 77.5946], zoom_start=10)\n",
        "\n",
        "    # Plot 5 Points\n",
        "    for i in range(5):\n",
        "        folium.Marker([df['Latitude'][i], df['Longitude'][i]],\n",
        "                      popup=df['Hotel_Name'][i]).add_to(m)\n",
        "\n",
        "    # Display Hotel Info on Click\n",
        "    m.add_child(folium.ClickForMarker(popup='Hotel Info'))\n",
        "\n",
        "    # Take User Input\n",
        "    user_hotel_name = st.text_input('Enter Hotel Name:')\n",
        "    user_latitude = st.number_input('Enter Latitude:')\n",
        "    user_longitude = st.number_input('Enter Longitude:')\n",
        "\n",
        "    # Plot User Input Point\n",
        "    if user_hotel_name != '' and user_latitude != 0 and user_longitude != 0:\n",
        "        folium.Marker([user_latitude, user_longitude],\n",
        "                      popup=user_hotel_name, icon=folium.Icon(color='green')).add_to(m)\n",
        "\n",
        "    # Display Map and Plots on Streamlit\n",
        "    folium_static(m)\n",
        "\n",
        "def display_hotel_analysis():\n",
        "    csv_file = \"/content/drive/MyDrive/prodigy internship/hotel_gen.csv\"\n",
        "    df = pd.read_csv(csv_file)\n",
        "    hotel_names = df['Hotel_Name'].unique()\n",
        "\n",
        "    selected_hotel = st.selectbox(\"Select Hotel\", hotel_names)  # Let the user select a hotel\n",
        "\n",
        "    st.subheader(\"Analysis for Hotel: \" + selected_hotel)\n",
        "    filtered_df = df[df['Hotel_Name'] == selected_hotel]  # Filter based on selected hotel\n",
        "\n",
        "    st.write(\"Total entries:\", len(filtered_df))\n",
        "    st.write(\"Average food wastage:\", filtered_df['Food_Wastage'].mean())\n",
        "    st.write(\"Average main wastage:\", filtered_df['Main_Dish'].mean())\n",
        "    st.write(\"Average side wastage:\", filtered_df['Side_Dish'].mean())\n",
        "\n",
        "    # Calculate average values for attributes\n",
        "    averages = {\n",
        "        'Main_Dish': filtered_df['Main_Dish'].mean(),\n",
        "        'Side_Dish': filtered_df['Side_Dish'].mean(),\n",
        "        'Snacks': filtered_df['Snacks'].mean(),\n",
        "        'Indian': filtered_df['Indian'].mean(),\n",
        "        'Chinese': filtered_df['Chinese'].mean(),\n",
        "        'Italian': filtered_df['Italian'].mean(),\n",
        "        'Beverages': filtered_df['Beverages'].mean()\n",
        "    }\n",
        "\n",
        "    # Plot histogram\n",
        "    st.subheader(\"Average values for each attribute\")\n",
        "    fig, ax = plt.subplots()\n",
        "    ax.bar(averages.keys(), averages.values())\n",
        "    plt.xticks(rotation=45, ha='right')\n",
        "    st.pyplot(fig)\n",
        "\n",
        "\n",
        "# Function to Add Food Leftover Details\n",
        "def add_food_details():\n",
        "    def append_to_csv(data):\n",
        "        csv_file_path = \"/content/drive/MyDrive/prodigy internship/hotel_gen.csv\"  # Update with your actual file path\n",
        "        with open(csv_file_path, mode='a', newline='', encoding='utf-8') as file:\n",
        "            writer = csv.writer(file)\n",
        "            writer.writerow(data)\n",
        "        st.success(\"Data has been successfully appended to the CSV file.\")\n",
        "\n",
        "    # Streamlit app\n",
        "    def main():\n",
        "        st.title(\"Append Data to CSV\")\n",
        "\n",
        "        # User input fields\n",
        "        hotel_name = st.text_input(\"Hotel Name\")\n",
        "        latitude = st.number_input(\"Latitude\", step=0.000001)\n",
        "        longitude = st.number_input(\"Longitude\", step=0.000001)\n",
        "        food_wastage = st.number_input(\"Food Wastage\", min_value=0, step=1)\n",
        "        main_dish = st.number_input(\"Main Dish\", min_value=0, step=1)\n",
        "        side_dish = st.number_input(\"Side Dish\", min_value=0, step=1)\n",
        "        snacks = st.number_input(\"Snacks\", min_value=0, step=1)\n",
        "        indian = st.number_input(\"Indian\", min_value=0, step=1)\n",
        "        chinese = st.number_input(\"Chinese\", min_value=0, step=1)\n",
        "        italian = st.number_input(\"Italian\", min_value=0, step=1)\n",
        "        beverages = st.number_input(\"Beverages\", min_value=0, step=1)\n",
        "\n",
        "        # Append button\n",
        "        if st.button(\"Append Data\"):\n",
        "            data = [hotel_name, latitude, longitude, food_wastage, main_dish, side_dish, snacks, indian, chinese, italian, beverages]\n",
        "            append_to_csv(data)\n",
        "\n",
        "    if __name__ == \"__main__\":\n",
        "        main()\n",
        "\n",
        "# Main Streamlit App\n",
        "option = st.selectbox('Select Option', ['Location Food Leftover Available', 'Food Leftover Details','Food Leftover Analysis'])\n",
        "\n",
        "if option == 'Location Food Leftover Available':\n",
        "    plot_hotels()\n",
        "elif option == 'Food Leftover Details':\n",
        "    add_food_details()\n",
        "elif option == 'Food Leftover Analysis':\n",
        "    display_hotel_analysis()"
      ]
    },
    {
      "cell_type": "code",
      "execution_count": null,
      "metadata": {
        "colab": {
          "base_uri": "https://localhost:8080/"
        },
        "id": "r6zFm-8I8dqF",
        "outputId": "4be168b0-202a-4469-ecc6-b3d998d3bd43"
      },
      "outputs": [
        {
          "name": "stdout",
          "output_type": "stream",
          "text": [
            "34.127.110.64"
          ]
        }
      ],
      "source": [
        "!curl https://loca.lt/mytunnelpassword"
      ]
    },
    {
      "cell_type": "code",
      "execution_count": null,
      "metadata": {
        "colab": {
          "base_uri": "https://localhost:8080/"
        },
        "id": "Y9P1AFVu-OkZ",
        "outputId": "965aca2e-d3dd-4f06-bd34-fcc783e91614"
      },
      "outputs": [
        {
          "name": "stdout",
          "output_type": "stream",
          "text": [
            "\n",
            "Collecting usage statistics. To deactivate, set browser.gatherUsageStats to false.\n",
            "\u001b[0m\n",
            "\u001b[K\u001b[?25hnpx: installed 22 in 2.868s\n",
            "your url is: https://nasty-wings-cut.loca.lt\n",
            "\u001b[0m\n",
            "\u001b[34m\u001b[1m  You can now view your Streamlit app in your browser.\u001b[0m\n",
            "\u001b[0m\n",
            "\u001b[34m  Network URL: \u001b[0m\u001b[1mhttp://172.28.0.12:8501\u001b[0m\n",
            "\u001b[34m  External URL: \u001b[0m\u001b[1mhttp://34.127.110.64:8501\u001b[0m\n",
            "\u001b[0m\n",
            "\u001b[34m  Stopping...\u001b[0m\n",
            "^C\n"
          ]
        }
      ],
      "source": [
        "! streamlit run csv.py & npx localtunnel --port 8501"
      ]
    },
    {
      "cell_type": "code",
      "execution_count": null,
      "metadata": {
        "id": "fJTvhv1_byXa"
      },
      "outputs": [],
      "source": []
    }
  ],
  "metadata": {
    "colab": {
      "provenance": []
    },
    "kernelspec": {
      "display_name": "Python 3",
      "name": "python3"
    },
    "language_info": {
      "name": "python"
    }
  },
  "nbformat": 4,
  "nbformat_minor": 0
}
